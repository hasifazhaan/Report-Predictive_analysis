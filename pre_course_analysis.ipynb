{
 "cells": [
  {
   "cell_type": "code",
   "execution_count": 155,
   "metadata": {},
   "outputs": [],
   "source": [
    "import numpy as np\n",
    "import pandas as pd\n",
    "import matplotlib.pyplot as plt\n",
    "import seaborn as sb\n",
    "\n",
    "from sklearn.cluster import KMeans\n",
    "from sklearn.model_selection import cross_val_score\n",
    "from sklearn.model_selection import KFold\n",
    "from sklearn.preprocessing import LabelEncoder\n",
    "from sklearn.model_selection import train_test_split\n"
   ]
  },
  {
   "cell_type": "code",
   "execution_count": 156,
   "metadata": {},
   "outputs": [],
   "source": [
    "import tensorflow as tf\n",
    "from tensorflow import keras"
   ]
  },
  {
   "cell_type": "markdown",
   "metadata": {},
   "source": [
    "### We have 3 Dataset Of Students Who Have Attempted Pre Course Test "
   ]
  },
  {
   "cell_type": "code",
   "execution_count": 157,
   "metadata": {},
   "outputs": [],
   "source": [
    "bcaa = pd.read_csv(\"OS UNIX.LINUX-Pre-Course Assessment _III BCA A.csv\")\n",
    "bcab = pd.read_excel(\"OS UNIX.LINUX-Precourse Assessment - III BCA_B.xlsx\")\n",
    "bcac = pd.read_excel(\"OS UNIX.LINUX-Pre-Course _III BCA_C.xlsx\")\n",
    "bcad = pd.read_excel(\"III BCA D OS_Precourse.xlsx\")\n",
    "bcae = pd.read_csv(\"OS UNIX.LINUX-Pre-Course Assessment _III BCA A.csv\")"
   ]
  },
  {
   "cell_type": "code",
   "execution_count": 158,
   "metadata": {},
   "outputs": [
    {
     "data": {
      "text/html": [
       "<div>\n",
       "<style scoped>\n",
       "    .dataframe tbody tr th:only-of-type {\n",
       "        vertical-align: middle;\n",
       "    }\n",
       "\n",
       "    .dataframe tbody tr th {\n",
       "        vertical-align: top;\n",
       "    }\n",
       "\n",
       "    .dataframe thead th {\n",
       "        text-align: right;\n",
       "    }\n",
       "</style>\n",
       "<table border=\"1\" class=\"dataframe\">\n",
       "  <thead>\n",
       "    <tr style=\"text-align: right;\">\n",
       "      <th></th>\n",
       "      <th>Surname</th>\n",
       "      <th>First name</th>\n",
       "      <th>Email address</th>\n",
       "      <th>State</th>\n",
       "      <th>Started on</th>\n",
       "      <th>Completed</th>\n",
       "      <th>Time taken</th>\n",
       "      <th>Grade/10.00</th>\n",
       "      <th>Q. 1 /1.00</th>\n",
       "      <th>Q. 2 /1.00</th>\n",
       "      <th>Q. 3 /1.00</th>\n",
       "      <th>Q. 4 /1.00</th>\n",
       "      <th>Q. 5 /1.00</th>\n",
       "      <th>Q. 6 /1.00</th>\n",
       "      <th>Q. 7 /1.00</th>\n",
       "      <th>Q. 8 /1.00</th>\n",
       "      <th>Q. 9 /1.00</th>\n",
       "      <th>Q. 10 /1.00</th>\n",
       "    </tr>\n",
       "  </thead>\n",
       "  <tbody>\n",
       "    <tr>\n",
       "      <th>0</th>\n",
       "      <td>BCA2020</td>\n",
       "      <td>mannaanncheriyan</td>\n",
       "      <td>bca20cs1a4191@kristujayanti.com</td>\n",
       "      <td>Finished</td>\n",
       "      <td>2021-08-24 11:34:00</td>\n",
       "      <td>2021-08-24 11:36:00</td>\n",
       "      <td>2 mins 11 secs</td>\n",
       "      <td>5.0</td>\n",
       "      <td>1.0</td>\n",
       "      <td>0.0</td>\n",
       "      <td>0.0</td>\n",
       "      <td>0.0</td>\n",
       "      <td>1.0</td>\n",
       "      <td>1.0</td>\n",
       "      <td>1.0</td>\n",
       "      <td>0.0</td>\n",
       "      <td>0.0</td>\n",
       "      <td>1.0</td>\n",
       "    </tr>\n",
       "    <tr>\n",
       "      <th>1</th>\n",
       "      <td>BCA2020</td>\n",
       "      <td>akhilvenkatreddym</td>\n",
       "      <td>bca20cs1h4202@kristujayanti.com</td>\n",
       "      <td>Finished</td>\n",
       "      <td>2021-08-24 11:34:00</td>\n",
       "      <td>2021-08-24 11:36:00</td>\n",
       "      <td>1 min 49 secs</td>\n",
       "      <td>10.0</td>\n",
       "      <td>1.0</td>\n",
       "      <td>1.0</td>\n",
       "      <td>1.0</td>\n",
       "      <td>1.0</td>\n",
       "      <td>1.0</td>\n",
       "      <td>1.0</td>\n",
       "      <td>1.0</td>\n",
       "      <td>1.0</td>\n",
       "      <td>1.0</td>\n",
       "      <td>1.0</td>\n",
       "    </tr>\n",
       "    <tr>\n",
       "      <th>2</th>\n",
       "      <td>BCA2020</td>\n",
       "      <td>haroormohamedrayan</td>\n",
       "      <td>bca20cs1h4205@kristujayanti.com</td>\n",
       "      <td>Finished</td>\n",
       "      <td>2021-08-24 11:34:00</td>\n",
       "      <td>2021-08-24 11:38:00</td>\n",
       "      <td>4 mins 6 secs</td>\n",
       "      <td>9.0</td>\n",
       "      <td>1.0</td>\n",
       "      <td>1.0</td>\n",
       "      <td>1.0</td>\n",
       "      <td>0.0</td>\n",
       "      <td>1.0</td>\n",
       "      <td>1.0</td>\n",
       "      <td>1.0</td>\n",
       "      <td>1.0</td>\n",
       "      <td>1.0</td>\n",
       "      <td>1.0</td>\n",
       "    </tr>\n",
       "    <tr>\n",
       "      <th>3</th>\n",
       "      <td>BCA2020</td>\n",
       "      <td>anushak</td>\n",
       "      <td>bca20cs1k4221@kristujayanti.com</td>\n",
       "      <td>Finished</td>\n",
       "      <td>2021-08-24 11:34:00</td>\n",
       "      <td>2021-08-24 11:41:00</td>\n",
       "      <td>6 mins 47 secs</td>\n",
       "      <td>8.0</td>\n",
       "      <td>1.0</td>\n",
       "      <td>1.0</td>\n",
       "      <td>1.0</td>\n",
       "      <td>1.0</td>\n",
       "      <td>1.0</td>\n",
       "      <td>1.0</td>\n",
       "      <td>0.0</td>\n",
       "      <td>0.0</td>\n",
       "      <td>1.0</td>\n",
       "      <td>1.0</td>\n",
       "    </tr>\n",
       "    <tr>\n",
       "      <th>4</th>\n",
       "      <td>BCA2020</td>\n",
       "      <td>mathewsmroy</td>\n",
       "      <td>bca20cs1h4210@kristujayanti.com</td>\n",
       "      <td>Finished</td>\n",
       "      <td>2021-08-24 11:34:00</td>\n",
       "      <td>2021-08-24 11:38:00</td>\n",
       "      <td>4 mins 1 sec</td>\n",
       "      <td>7.0</td>\n",
       "      <td>1.0</td>\n",
       "      <td>0.0</td>\n",
       "      <td>1.0</td>\n",
       "      <td>1.0</td>\n",
       "      <td>0.0</td>\n",
       "      <td>1.0</td>\n",
       "      <td>1.0</td>\n",
       "      <td>1.0</td>\n",
       "      <td>0.0</td>\n",
       "      <td>1.0</td>\n",
       "    </tr>\n",
       "  </tbody>\n",
       "</table>\n",
       "</div>"
      ],
      "text/plain": [
       "   Surname          First name                    Email address     State  \\\n",
       "0  BCA2020    mannaanncheriyan  bca20cs1a4191@kristujayanti.com  Finished   \n",
       "1  BCA2020   akhilvenkatreddym  bca20cs1h4202@kristujayanti.com  Finished   \n",
       "2  BCA2020  haroormohamedrayan  bca20cs1h4205@kristujayanti.com  Finished   \n",
       "3  BCA2020             anushak  bca20cs1k4221@kristujayanti.com  Finished   \n",
       "4  BCA2020         mathewsmroy  bca20cs1h4210@kristujayanti.com  Finished   \n",
       "\n",
       "           Started on           Completed      Time taken  Grade/10.00  \\\n",
       "0 2021-08-24 11:34:00 2021-08-24 11:36:00  2 mins 11 secs          5.0   \n",
       "1 2021-08-24 11:34:00 2021-08-24 11:36:00   1 min 49 secs         10.0   \n",
       "2 2021-08-24 11:34:00 2021-08-24 11:38:00   4 mins 6 secs          9.0   \n",
       "3 2021-08-24 11:34:00 2021-08-24 11:41:00  6 mins 47 secs          8.0   \n",
       "4 2021-08-24 11:34:00 2021-08-24 11:38:00    4 mins 1 sec          7.0   \n",
       "\n",
       "   Q. 1 /1.00  Q. 2 /1.00  Q. 3 /1.00  Q. 4 /1.00  Q. 5 /1.00  Q. 6 /1.00  \\\n",
       "0         1.0         0.0         0.0         0.0         1.0         1.0   \n",
       "1         1.0         1.0         1.0         1.0         1.0         1.0   \n",
       "2         1.0         1.0         1.0         0.0         1.0         1.0   \n",
       "3         1.0         1.0         1.0         1.0         1.0         1.0   \n",
       "4         1.0         0.0         1.0         1.0         0.0         1.0   \n",
       "\n",
       "   Q. 7 /1.00  Q. 8 /1.00  Q. 9 /1.00  Q. 10 /1.00  \n",
       "0         1.0         0.0         0.0          1.0  \n",
       "1         1.0         1.0         1.0          1.0  \n",
       "2         1.0         1.0         1.0          1.0  \n",
       "3         0.0         0.0         1.0          1.0  \n",
       "4         1.0         1.0         0.0          1.0  "
      ]
     },
     "execution_count": 158,
     "metadata": {},
     "output_type": "execute_result"
    }
   ],
   "source": [
    "bcad.head()"
   ]
  },
  {
   "cell_type": "code",
   "execution_count": 159,
   "metadata": {},
   "outputs": [],
   "source": [
    "frame = [bcaa,bcab,bcac,bcad,bcae]"
   ]
  },
  {
   "cell_type": "code",
   "execution_count": 160,
   "metadata": {},
   "outputs": [],
   "source": [
    "dataset = pd.concat(frame)"
   ]
  },
  {
   "cell_type": "code",
   "execution_count": 161,
   "metadata": {},
   "outputs": [
    {
     "data": {
      "text/plain": [
       "(266, 18)"
      ]
     },
     "execution_count": 161,
     "metadata": {},
     "output_type": "execute_result"
    }
   ],
   "source": [
    "dataset.shape"
   ]
  },
  {
   "cell_type": "code",
   "execution_count": 162,
   "metadata": {},
   "outputs": [
    {
     "data": {
      "text/plain": [
       "Finished           264\n",
       "Never submitted      1\n",
       "Name: State, dtype: int64"
      ]
     },
     "execution_count": 162,
     "metadata": {},
     "output_type": "execute_result"
    }
   ],
   "source": [
    "dataset['State'].value_counts()\n",
    "# Their Is a Person Who Attempted But Did not Submit Result So He Can Be Discarded"
   ]
  },
  {
   "cell_type": "code",
   "execution_count": 163,
   "metadata": {},
   "outputs": [],
   "source": [
    "dataset = dataset[dataset['State']  == \"Finished\"]"
   ]
  },
  {
   "cell_type": "markdown",
   "metadata": {},
   "source": [
    "### Now All Student Are Finishing The Test So 'State' Column is Not Required"
   ]
  },
  {
   "cell_type": "markdown",
   "metadata": {},
   "source": [
    "### 'Surname' column is not required\n",
    "\n",
    "### Since We Have 'Time Taken' Column 'Started On' and 'Completed' is also not required "
   ]
  },
  {
   "cell_type": "code",
   "execution_count": 164,
   "metadata": {},
   "outputs": [],
   "source": [
    "remove = dataset.pop(\"State\")\n",
    "remove = dataset.pop(\"Surname\")\n",
    "remove = dataset.pop(\"Started on\")\n",
    "remove = dataset.pop(\"Completed\")"
   ]
  },
  {
   "cell_type": "code",
   "execution_count": 165,
   "metadata": {},
   "outputs": [
    {
     "data": {
      "text/plain": [
       "(264, 14)"
      ]
     },
     "execution_count": 165,
     "metadata": {},
     "output_type": "execute_result"
    }
   ],
   "source": [
    "dataset.shape"
   ]
  },
  {
   "cell_type": "code",
   "execution_count": 166,
   "metadata": {},
   "outputs": [
    {
     "data": {
      "text/html": [
       "<div>\n",
       "<style scoped>\n",
       "    .dataframe tbody tr th:only-of-type {\n",
       "        vertical-align: middle;\n",
       "    }\n",
       "\n",
       "    .dataframe tbody tr th {\n",
       "        vertical-align: top;\n",
       "    }\n",
       "\n",
       "    .dataframe thead th {\n",
       "        text-align: right;\n",
       "    }\n",
       "</style>\n",
       "<table border=\"1\" class=\"dataframe\">\n",
       "  <thead>\n",
       "    <tr style=\"text-align: right;\">\n",
       "      <th></th>\n",
       "      <th>Grade/10.00</th>\n",
       "      <th>Q. 1 /1.00</th>\n",
       "      <th>Q. 2 /1.00</th>\n",
       "      <th>Q. 3 /1.00</th>\n",
       "      <th>Q. 4 /1.00</th>\n",
       "      <th>Q. 5 /1.00</th>\n",
       "      <th>Q. 6 /1.00</th>\n",
       "      <th>Q. 7 /1.00</th>\n",
       "      <th>Q. 8 /1.00</th>\n",
       "      <th>Q. 9 /1.00</th>\n",
       "      <th>Q. 10 /1.00</th>\n",
       "    </tr>\n",
       "  </thead>\n",
       "  <tbody>\n",
       "    <tr>\n",
       "      <th>count</th>\n",
       "      <td>264.000000</td>\n",
       "      <td>264.000000</td>\n",
       "      <td>264.000000</td>\n",
       "      <td>264.000000</td>\n",
       "      <td>264.000000</td>\n",
       "      <td>264.000000</td>\n",
       "      <td>264.000000</td>\n",
       "      <td>264.000000</td>\n",
       "      <td>264.000000</td>\n",
       "      <td>264.000000</td>\n",
       "      <td>264.000000</td>\n",
       "    </tr>\n",
       "    <tr>\n",
       "      <th>mean</th>\n",
       "      <td>6.916667</td>\n",
       "      <td>0.727273</td>\n",
       "      <td>0.655303</td>\n",
       "      <td>0.712121</td>\n",
       "      <td>0.696970</td>\n",
       "      <td>0.647727</td>\n",
       "      <td>0.791667</td>\n",
       "      <td>0.738636</td>\n",
       "      <td>0.575758</td>\n",
       "      <td>0.704545</td>\n",
       "      <td>0.666667</td>\n",
       "    </tr>\n",
       "    <tr>\n",
       "      <th>std</th>\n",
       "      <td>2.048988</td>\n",
       "      <td>0.446208</td>\n",
       "      <td>0.476172</td>\n",
       "      <td>0.453634</td>\n",
       "      <td>0.460441</td>\n",
       "      <td>0.478586</td>\n",
       "      <td>0.406888</td>\n",
       "      <td>0.440212</td>\n",
       "      <td>0.495166</td>\n",
       "      <td>0.457113</td>\n",
       "      <td>0.472300</td>\n",
       "    </tr>\n",
       "    <tr>\n",
       "      <th>min</th>\n",
       "      <td>1.000000</td>\n",
       "      <td>0.000000</td>\n",
       "      <td>0.000000</td>\n",
       "      <td>0.000000</td>\n",
       "      <td>0.000000</td>\n",
       "      <td>0.000000</td>\n",
       "      <td>0.000000</td>\n",
       "      <td>0.000000</td>\n",
       "      <td>0.000000</td>\n",
       "      <td>0.000000</td>\n",
       "      <td>0.000000</td>\n",
       "    </tr>\n",
       "    <tr>\n",
       "      <th>25%</th>\n",
       "      <td>6.000000</td>\n",
       "      <td>0.000000</td>\n",
       "      <td>0.000000</td>\n",
       "      <td>0.000000</td>\n",
       "      <td>0.000000</td>\n",
       "      <td>0.000000</td>\n",
       "      <td>1.000000</td>\n",
       "      <td>0.000000</td>\n",
       "      <td>0.000000</td>\n",
       "      <td>0.000000</td>\n",
       "      <td>0.000000</td>\n",
       "    </tr>\n",
       "    <tr>\n",
       "      <th>50%</th>\n",
       "      <td>7.000000</td>\n",
       "      <td>1.000000</td>\n",
       "      <td>1.000000</td>\n",
       "      <td>1.000000</td>\n",
       "      <td>1.000000</td>\n",
       "      <td>1.000000</td>\n",
       "      <td>1.000000</td>\n",
       "      <td>1.000000</td>\n",
       "      <td>1.000000</td>\n",
       "      <td>1.000000</td>\n",
       "      <td>1.000000</td>\n",
       "    </tr>\n",
       "    <tr>\n",
       "      <th>75%</th>\n",
       "      <td>9.000000</td>\n",
       "      <td>1.000000</td>\n",
       "      <td>1.000000</td>\n",
       "      <td>1.000000</td>\n",
       "      <td>1.000000</td>\n",
       "      <td>1.000000</td>\n",
       "      <td>1.000000</td>\n",
       "      <td>1.000000</td>\n",
       "      <td>1.000000</td>\n",
       "      <td>1.000000</td>\n",
       "      <td>1.000000</td>\n",
       "    </tr>\n",
       "    <tr>\n",
       "      <th>max</th>\n",
       "      <td>10.000000</td>\n",
       "      <td>1.000000</td>\n",
       "      <td>1.000000</td>\n",
       "      <td>1.000000</td>\n",
       "      <td>1.000000</td>\n",
       "      <td>1.000000</td>\n",
       "      <td>1.000000</td>\n",
       "      <td>1.000000</td>\n",
       "      <td>1.000000</td>\n",
       "      <td>1.000000</td>\n",
       "      <td>1.000000</td>\n",
       "    </tr>\n",
       "  </tbody>\n",
       "</table>\n",
       "</div>"
      ],
      "text/plain": [
       "       Grade/10.00  Q. 1 /1.00  Q. 2 /1.00  Q. 3 /1.00  Q. 4 /1.00  \\\n",
       "count   264.000000  264.000000  264.000000  264.000000  264.000000   \n",
       "mean      6.916667    0.727273    0.655303    0.712121    0.696970   \n",
       "std       2.048988    0.446208    0.476172    0.453634    0.460441   \n",
       "min       1.000000    0.000000    0.000000    0.000000    0.000000   \n",
       "25%       6.000000    0.000000    0.000000    0.000000    0.000000   \n",
       "50%       7.000000    1.000000    1.000000    1.000000    1.000000   \n",
       "75%       9.000000    1.000000    1.000000    1.000000    1.000000   \n",
       "max      10.000000    1.000000    1.000000    1.000000    1.000000   \n",
       "\n",
       "       Q. 5 /1.00  Q. 6 /1.00  Q. 7 /1.00  Q. 8 /1.00  Q. 9 /1.00  Q. 10 /1.00  \n",
       "count  264.000000  264.000000  264.000000  264.000000  264.000000   264.000000  \n",
       "mean     0.647727    0.791667    0.738636    0.575758    0.704545     0.666667  \n",
       "std      0.478586    0.406888    0.440212    0.495166    0.457113     0.472300  \n",
       "min      0.000000    0.000000    0.000000    0.000000    0.000000     0.000000  \n",
       "25%      0.000000    1.000000    0.000000    0.000000    0.000000     0.000000  \n",
       "50%      1.000000    1.000000    1.000000    1.000000    1.000000     1.000000  \n",
       "75%      1.000000    1.000000    1.000000    1.000000    1.000000     1.000000  \n",
       "max      1.000000    1.000000    1.000000    1.000000    1.000000     1.000000  "
      ]
     },
     "execution_count": 166,
     "metadata": {},
     "output_type": "execute_result"
    }
   ],
   "source": [
    "dataset.describe()"
   ]
  },
  {
   "cell_type": "markdown",
   "metadata": {},
   "source": [
    "## Grade Allotment\n",
    "### Their Are 10 Question Of Which 4 are Average Level , 3 are Easy And 3 are Hard \n",
    "\n",
    "Q1,Q2,Q3,Q4 are Average \n",
    "\n",
    "Q5,Q6,Q7 are Easy\n",
    "\n",
    "Q8,Q9,Q10 are Hard\n",
    "\n",
    "Weights\n",
    "\n",
    "Avg - 0.5\n",
    "\n",
    "Easy - 0.3\n",
    "\n",
    "Hard  - 0.9\n"
   ]
  },
  {
   "cell_type": "code",
   "execution_count": 168,
   "metadata": {},
   "outputs": [],
   "source": [
    "def Standard_Time(ds,c_name,conversion = \"seconds\"):\n",
    "    convertedtime = []\n",
    "    if conversion == \"seconds\":\n",
    "        for time in ds[c_name]:\n",
    "            val = [int(s) for s in time.split() if s.isdigit()]\n",
    "            # if len(val) == 4:\n",
    "            #     n_time = val[0]*60 +val[1]\n",
    "            # else:\n",
    "            #     if \"secs\" in val:\n",
    "            #         n_time = val[0]*60 \n",
    "                    \n",
    "            try:\n",
    "                n_time = val[0]*60 +val[1]\n",
    "                \n",
    "            except IndexError as Ie:\n",
    "                n_time = val[0]\n",
    "            \n",
    "            convertedtime.append(n_time)\n",
    "        ds['ConvertedTime'] = np.array(convertedtime)\n",
    "        \n",
    "    \n",
    "    "
   ]
  },
  {
   "cell_type": "code",
   "execution_count": 169,
   "metadata": {},
   "outputs": [],
   "source": [
    "Standard_Time(dataset,\"Time taken\")"
   ]
  },
  {
   "cell_type": "markdown",
   "metadata": {},
   "source": [
    "### Now Time Is Standardized For Comparision in Seconds"
   ]
  },
  {
   "cell_type": "code",
   "execution_count": 170,
   "metadata": {},
   "outputs": [
    {
     "data": {
      "text/plain": [
       "count     264.000000\n",
       "mean      295.117424\n",
       "std       168.449396\n",
       "min         3.000000\n",
       "25%       159.000000\n",
       "50%       273.000000\n",
       "75%       396.500000\n",
       "max      1095.000000\n",
       "Name: ConvertedTime, dtype: float64"
      ]
     },
     "execution_count": 170,
     "metadata": {},
     "output_type": "execute_result"
    }
   ],
   "source": [
    "dataset['ConvertedTime'].describe()"
   ]
  },
  {
   "cell_type": "code",
   "execution_count": 171,
   "metadata": {},
   "outputs": [],
   "source": [
    "kmeans = KMeans(n_clusters=3, random_state=0)\n",
    "dataset['cluster'] = kmeans.fit_predict(dataset[['ConvertedTime']])# get centroids\n",
    "centroids = kmeans.cluster_centers_\n",
    "cen_x = [i[0] for i in centroids] \n",
    "## add to dataset\n",
    "dataset['cen_x'] = dataset.cluster.map({0:cen_x[0], 1:cen_x[1], 2:cen_x[2]})\n",
    "# define and map colors\n",
    "colors = ['#DF2020', '#81DF20', '#2095DF']\n",
    "dataset['c'] = dataset.cluster.map({0:colors[0], 1:colors[1], 2:colors[2]})"
   ]
  },
  {
   "cell_type": "code",
   "execution_count": 17,
   "metadata": {},
   "outputs": [
    {
     "data": {
      "text/plain": [
       "<AxesSubplot:xlabel='Email address', ylabel='ConvertedTime'>"
      ]
     },
     "execution_count": 17,
     "metadata": {},
     "output_type": "execute_result"
    },
    {
     "data": {
      "image/png": "[encoded data removed]",
      "text/plain": [
       "<Figure size 720x720 with 1 Axes>"
      ]
     },
     "metadata": {
      "needs_background": "light"
     },
     "output_type": "display_data"
    }
   ],
   "source": [
    "plt.figure(figsize=(10,10))\n",
    "sb.scatterplot(data = dataset ,x ='Email address', y= 'ConvertedTime', c=dataset['c'], alpha = 0.6)"
   ]
  },
  {
   "cell_type": "code",
   "execution_count": 172,
   "metadata": {},
   "outputs": [],
   "source": [
    "dataset = dataset.drop(['cen_x','c','cluster'], axis = 1)"
   ]
  },
  {
   "cell_type": "markdown",
   "metadata": {},
   "source": [
    "Time Taken To completed\n",
    "\n",
    "Blue - Fastest\n",
    "\n",
    "Red - Average\n",
    "\n",
    "Green  -Slowest"
   ]
  },
  {
   "cell_type": "code",
   "execution_count": 173,
   "metadata": {},
   "outputs": [
    {
     "data": {
      "text/plain": [
       "0     7 mins 41 secs\n",
       "1      3 mins 5 secs\n",
       "2     3 mins 45 secs\n",
       "3     5 mins 37 secs\n",
       "4     2 mins 41 secs\n",
       "           ...      \n",
       "50    3 mins 40 secs\n",
       "51    2 mins 39 secs\n",
       "52    5 mins 16 secs\n",
       "53     1 min 40 secs\n",
       "54     1 min 50 secs\n",
       "Name: Time taken, Length: 264, dtype: object"
      ]
     },
     "execution_count": 173,
     "metadata": {},
     "output_type": "execute_result"
    }
   ],
   "source": [
    "dataset.pop(\"Time taken\")"
   ]
  },
  {
   "cell_type": "markdown",
   "metadata": {},
   "source": [
    "### Adding Weights To The Questions"
   ]
  },
  {
   "cell_type": "markdown",
   "metadata": {},
   "source": [
    "## Grade Allotment\n",
    "### Their Are 10 Question Of Which 4 are Average Level , 3 are Easy And 3 are Hard \n",
    "\n",
    "Q1,Q2,Q3,Q4 are Average \n",
    "\n",
    "Q5,Q6,Q7 are Easy\n",
    "\n",
    "Q8,Q9,Q10 are Hard\n",
    "\n",
    "Weights\n",
    "\n",
    "Avg - 0.5\n",
    "\n",
    "Easy - 0.3\n",
    "\n",
    "Hard  - 0.9\n"
   ]
  },
  {
   "cell_type": "code",
   "execution_count": 174,
   "metadata": {},
   "outputs": [
    {
     "data": {
      "text/html": [
       "<div>\n",
       "<style scoped>\n",
       "    .dataframe tbody tr th:only-of-type {\n",
       "        vertical-align: middle;\n",
       "    }\n",
       "\n",
       "    .dataframe tbody tr th {\n",
       "        vertical-align: top;\n",
       "    }\n",
       "\n",
       "    .dataframe thead th {\n",
       "        text-align: right;\n",
       "    }\n",
       "</style>\n",
       "<table border=\"1\" class=\"dataframe\">\n",
       "  <thead>\n",
       "    <tr style=\"text-align: right;\">\n",
       "      <th></th>\n",
       "      <th>First name</th>\n",
       "      <th>Email address</th>\n",
       "      <th>Grade/10.00</th>\n",
       "      <th>Q. 1 /1.00</th>\n",
       "      <th>Q. 2 /1.00</th>\n",
       "      <th>Q. 3 /1.00</th>\n",
       "      <th>Q. 4 /1.00</th>\n",
       "      <th>Q. 5 /1.00</th>\n",
       "      <th>Q. 6 /1.00</th>\n",
       "      <th>Q. 7 /1.00</th>\n",
       "      <th>Q. 8 /1.00</th>\n",
       "      <th>Q. 9 /1.00</th>\n",
       "      <th>Q. 10 /1.00</th>\n",
       "      <th>ConvertedTime</th>\n",
       "    </tr>\n",
       "  </thead>\n",
       "  <tbody>\n",
       "    <tr>\n",
       "      <th>0</th>\n",
       "      <td>ankitpareek</td>\n",
       "      <td>bca20cs1a1004@kristujayanti.com</td>\n",
       "      <td>10.0</td>\n",
       "      <td>1.0</td>\n",
       "      <td>1.0</td>\n",
       "      <td>1.0</td>\n",
       "      <td>1.0</td>\n",
       "      <td>1.0</td>\n",
       "      <td>1.0</td>\n",
       "      <td>1.0</td>\n",
       "      <td>1.0</td>\n",
       "      <td>1.0</td>\n",
       "      <td>1.0</td>\n",
       "      <td>461</td>\n",
       "    </tr>\n",
       "    <tr>\n",
       "      <th>1</th>\n",
       "      <td>roshandahal</td>\n",
       "      <td>bca20cs1a1020@kristujayanti.com</td>\n",
       "      <td>7.0</td>\n",
       "      <td>1.0</td>\n",
       "      <td>1.0</td>\n",
       "      <td>1.0</td>\n",
       "      <td>0.0</td>\n",
       "      <td>1.0</td>\n",
       "      <td>0.0</td>\n",
       "      <td>1.0</td>\n",
       "      <td>0.0</td>\n",
       "      <td>1.0</td>\n",
       "      <td>1.0</td>\n",
       "      <td>185</td>\n",
       "    </tr>\n",
       "    <tr>\n",
       "      <th>2</th>\n",
       "      <td>velayuthams</td>\n",
       "      <td>bca20cs1a1024@kristujayanti.com</td>\n",
       "      <td>10.0</td>\n",
       "      <td>1.0</td>\n",
       "      <td>1.0</td>\n",
       "      <td>1.0</td>\n",
       "      <td>1.0</td>\n",
       "      <td>1.0</td>\n",
       "      <td>1.0</td>\n",
       "      <td>1.0</td>\n",
       "      <td>1.0</td>\n",
       "      <td>1.0</td>\n",
       "      <td>1.0</td>\n",
       "      <td>225</td>\n",
       "    </tr>\n",
       "    <tr>\n",
       "      <th>3</th>\n",
       "      <td>arijitkumbhakar</td>\n",
       "      <td>bca20cs1a1007@kristujayanti.com</td>\n",
       "      <td>9.0</td>\n",
       "      <td>1.0</td>\n",
       "      <td>1.0</td>\n",
       "      <td>0.0</td>\n",
       "      <td>1.0</td>\n",
       "      <td>1.0</td>\n",
       "      <td>1.0</td>\n",
       "      <td>1.0</td>\n",
       "      <td>1.0</td>\n",
       "      <td>1.0</td>\n",
       "      <td>1.0</td>\n",
       "      <td>337</td>\n",
       "    </tr>\n",
       "    <tr>\n",
       "      <th>4</th>\n",
       "      <td>shubhambarnwal</td>\n",
       "      <td>bca20cs1a1021@kristujayanti.com</td>\n",
       "      <td>10.0</td>\n",
       "      <td>1.0</td>\n",
       "      <td>1.0</td>\n",
       "      <td>1.0</td>\n",
       "      <td>1.0</td>\n",
       "      <td>1.0</td>\n",
       "      <td>1.0</td>\n",
       "      <td>1.0</td>\n",
       "      <td>1.0</td>\n",
       "      <td>1.0</td>\n",
       "      <td>1.0</td>\n",
       "      <td>161</td>\n",
       "    </tr>\n",
       "  </tbody>\n",
       "</table>\n",
       "</div>"
      ],
      "text/plain": [
       "        First name                    Email address  Grade/10.00  Q. 1 /1.00  \\\n",
       "0      ankitpareek  bca20cs1a1004@kristujayanti.com         10.0         1.0   \n",
       "1      roshandahal  bca20cs1a1020@kristujayanti.com          7.0         1.0   \n",
       "2      velayuthams  bca20cs1a1024@kristujayanti.com         10.0         1.0   \n",
       "3  arijitkumbhakar  bca20cs1a1007@kristujayanti.com          9.0         1.0   \n",
       "4   shubhambarnwal  bca20cs1a1021@kristujayanti.com         10.0         1.0   \n",
       "\n",
       "   Q. 2 /1.00  Q. 3 /1.00  Q. 4 /1.00  Q. 5 /1.00  Q. 6 /1.00  Q. 7 /1.00  \\\n",
       "0         1.0         1.0         1.0         1.0         1.0         1.0   \n",
       "1         1.0         1.0         0.0         1.0         0.0         1.0   \n",
       "2         1.0         1.0         1.0         1.0         1.0         1.0   \n",
       "3         1.0         0.0         1.0         1.0         1.0         1.0   \n",
       "4         1.0         1.0         1.0         1.0         1.0         1.0   \n",
       "\n",
       "   Q. 8 /1.00  Q. 9 /1.00  Q. 10 /1.00  ConvertedTime  \n",
       "0         1.0         1.0          1.0            461  \n",
       "1         0.0         1.0          1.0            185  \n",
       "2         1.0         1.0          1.0            225  \n",
       "3         1.0         1.0          1.0            337  \n",
       "4         1.0         1.0          1.0            161  "
      ]
     },
     "execution_count": 174,
     "metadata": {},
     "output_type": "execute_result"
    }
   ],
   "source": [
    "dataset.head()"
   ]
  },
  {
   "cell_type": "code",
   "execution_count": 180,
   "metadata": {},
   "outputs": [
    {
     "data": {
      "text/plain": [
       "0     0.5\n",
       "1     0.5\n",
       "2     0.5\n",
       "3     0.5\n",
       "4     0.5\n",
       "     ... \n",
       "50    0.5\n",
       "51    0.5\n",
       "52    0.5\n",
       "53    0.5\n",
       "54    0.0\n",
       "Name: Q. 1 /1.00, Length: 264, dtype: float64"
      ]
     },
     "execution_count": 180,
     "metadata": {},
     "output_type": "execute_result"
    }
   ],
   "source": [
    "val = dataset['Q. 1 /1.00'] *0.5\n",
    "val"
   ]
  },
  {
   "cell_type": "code",
   "execution_count": 21,
   "metadata": {},
   "outputs": [],
   "source": [
    "grades = dataset.pop(\"Grade/10.00\")"
   ]
  },
  {
   "cell_type": "markdown",
   "metadata": {},
   "source": [
    "    5 - 7 Average -- B\n",
    "\n",
    "    > 7 A.average  -- A\n",
    "    \n",
    "    <5 B.average -- C"
   ]
  },
  {
   "cell_type": "code",
   "execution_count": 22,
   "metadata": {},
   "outputs": [],
   "source": [
    "position = []\n",
    "for i in grades:\n",
    "    if i < 5:\n",
    "        position.append(\"C\")\n",
    "    elif i > 5 and i <7:\n",
    "        position.append(\"B\")\n",
    "    else:\n",
    "        position.append(\"A\")\n",
    "Position = np.array(position);        "
   ]
  },
  {
   "cell_type": "code",
   "execution_count": 23,
   "metadata": {},
   "outputs": [],
   "source": [
    "dataset.drop(['First name','Email address'],axis= 1,inplace=True)"
   ]
  },
  {
   "cell_type": "code",
   "execution_count": 24,
   "metadata": {},
   "outputs": [
    {
     "data": {
      "text/html": [
       "<div>\n",
       "<style scoped>\n",
       "    .dataframe tbody tr th:only-of-type {\n",
       "        vertical-align: middle;\n",
       "    }\n",
       "\n",
       "    .dataframe tbody tr th {\n",
       "        vertical-align: top;\n",
       "    }\n",
       "\n",
       "    .dataframe thead th {\n",
       "        text-align: right;\n",
       "    }\n",
       "</style>\n",
       "<table border=\"1\" class=\"dataframe\">\n",
       "  <thead>\n",
       "    <tr style=\"text-align: right;\">\n",
       "      <th></th>\n",
       "      <th>Q. 1 /1.00</th>\n",
       "      <th>Q. 2 /1.00</th>\n",
       "      <th>Q. 3 /1.00</th>\n",
       "      <th>Q. 4 /1.00</th>\n",
       "      <th>Q. 5 /1.00</th>\n",
       "      <th>Q. 6 /1.00</th>\n",
       "      <th>Q. 7 /1.00</th>\n",
       "      <th>Q. 8 /1.00</th>\n",
       "      <th>Q. 9 /1.00</th>\n",
       "      <th>Q. 10 /1.00</th>\n",
       "      <th>ConvertedTime</th>\n",
       "    </tr>\n",
       "  </thead>\n",
       "  <tbody>\n",
       "    <tr>\n",
       "      <th>0</th>\n",
       "      <td>1.0</td>\n",
       "      <td>1.0</td>\n",
       "      <td>1.0</td>\n",
       "      <td>1.0</td>\n",
       "      <td>1.0</td>\n",
       "      <td>1.0</td>\n",
       "      <td>1.0</td>\n",
       "      <td>1.0</td>\n",
       "      <td>1.0</td>\n",
       "      <td>1.0</td>\n",
       "      <td>461</td>\n",
       "    </tr>\n",
       "    <tr>\n",
       "      <th>1</th>\n",
       "      <td>1.0</td>\n",
       "      <td>1.0</td>\n",
       "      <td>1.0</td>\n",
       "      <td>0.0</td>\n",
       "      <td>1.0</td>\n",
       "      <td>0.0</td>\n",
       "      <td>1.0</td>\n",
       "      <td>0.0</td>\n",
       "      <td>1.0</td>\n",
       "      <td>1.0</td>\n",
       "      <td>185</td>\n",
       "    </tr>\n",
       "    <tr>\n",
       "      <th>2</th>\n",
       "      <td>1.0</td>\n",
       "      <td>1.0</td>\n",
       "      <td>1.0</td>\n",
       "      <td>1.0</td>\n",
       "      <td>1.0</td>\n",
       "      <td>1.0</td>\n",
       "      <td>1.0</td>\n",
       "      <td>1.0</td>\n",
       "      <td>1.0</td>\n",
       "      <td>1.0</td>\n",
       "      <td>225</td>\n",
       "    </tr>\n",
       "    <tr>\n",
       "      <th>3</th>\n",
       "      <td>1.0</td>\n",
       "      <td>1.0</td>\n",
       "      <td>0.0</td>\n",
       "      <td>1.0</td>\n",
       "      <td>1.0</td>\n",
       "      <td>1.0</td>\n",
       "      <td>1.0</td>\n",
       "      <td>1.0</td>\n",
       "      <td>1.0</td>\n",
       "      <td>1.0</td>\n",
       "      <td>337</td>\n",
       "    </tr>\n",
       "    <tr>\n",
       "      <th>4</th>\n",
       "      <td>1.0</td>\n",
       "      <td>1.0</td>\n",
       "      <td>1.0</td>\n",
       "      <td>1.0</td>\n",
       "      <td>1.0</td>\n",
       "      <td>1.0</td>\n",
       "      <td>1.0</td>\n",
       "      <td>1.0</td>\n",
       "      <td>1.0</td>\n",
       "      <td>1.0</td>\n",
       "      <td>161</td>\n",
       "    </tr>\n",
       "  </tbody>\n",
       "</table>\n",
       "</div>"
      ],
      "text/plain": [
       "   Q. 1 /1.00  Q. 2 /1.00  Q. 3 /1.00  Q. 4 /1.00  Q. 5 /1.00  Q. 6 /1.00  \\\n",
       "0         1.0         1.0         1.0         1.0         1.0         1.0   \n",
       "1         1.0         1.0         1.0         0.0         1.0         0.0   \n",
       "2         1.0         1.0         1.0         1.0         1.0         1.0   \n",
       "3         1.0         1.0         0.0         1.0         1.0         1.0   \n",
       "4         1.0         1.0         1.0         1.0         1.0         1.0   \n",
       "\n",
       "   Q. 7 /1.00  Q. 8 /1.00  Q. 9 /1.00  Q. 10 /1.00  ConvertedTime  \n",
       "0         1.0         1.0         1.0          1.0            461  \n",
       "1         1.0         0.0         1.0          1.0            185  \n",
       "2         1.0         1.0         1.0          1.0            225  \n",
       "3         1.0         1.0         1.0          1.0            337  \n",
       "4         1.0         1.0         1.0          1.0            161  "
      ]
     },
     "execution_count": 24,
     "metadata": {},
     "output_type": "execute_result"
    }
   ],
   "source": [
    "dataset.head()"
   ]
  },
  {
   "cell_type": "code",
   "execution_count": 25,
   "metadata": {},
   "outputs": [],
   "source": [
    "Training_data , testdata ,train_labels,test_lables = train_test_split(dataset,Position,test_size=0.33, random_state=42)"
   ]
  },
  {
   "cell_type": "code",
   "execution_count": 26,
   "metadata": {},
   "outputs": [],
   "source": [
    "from keras.utils import np_utils\n",
    "from keras.models import Sequential\n",
    "from keras.layers import Dense\n",
    "from keras.wrappers.scikit_learn import KerasClassifier"
   ]
  },
  {
   "cell_type": "code",
   "execution_count": 27,
   "metadata": {},
   "outputs": [
    {
     "name": "stderr",
     "output_type": "stream",
     "text": [
      "<ipython-input-27-e4b5dc92987d>:20: DeprecationWarning: KerasClassifier is deprecated, use Sci-Keras (https://github.com/adriangb/scikeras) instead.\n",
      "  estimator = KerasClassifier(build_fn=baseline_model, epochs=200, batch_size=32, verbose=0)\n"
     ]
    },
    {
     "name": "stdout",
     "output_type": "stream",
     "text": [
      "WARNING:tensorflow:5 out of the last 5 calls to <function Model.make_test_function.<locals>.test_function at 0x7f836876fca0> triggered tf.function retracing. Tracing is expensive and the excessive number of tracings could be due to (1) creating @tf.function repeatedly in a loop, (2) passing tensors with different shapes, (3) passing Python objects instead of tensors. For (1), please define your @tf.function outside of the loop. For (2), @tf.function has experimental_relax_shapes=True option that relaxes argument shapes that can avoid unnecessary retracing. For (3), please refer to https://www.tensorflow.org/guide/function#controlling_retracing and https://www.tensorflow.org/api_docs/python/tf/function for  more details.\n",
      "WARNING:tensorflow:6 out of the last 6 calls to <function Model.make_test_function.<locals>.test_function at 0x7f8370628310> triggered tf.function retracing. Tracing is expensive and the excessive number of tracings could be due to (1) creating @tf.function repeatedly in a loop, (2) passing tensors with different shapes, (3) passing Python objects instead of tensors. For (1), please define your @tf.function outside of the loop. For (2), @tf.function has experimental_relax_shapes=True option that relaxes argument shapes that can avoid unnecessary retracing. For (3), please refer to https://www.tensorflow.org/guide/function#controlling_retracing and https://www.tensorflow.org/api_docs/python/tf/function for  more details.\n",
      "Baseline: 75.00% (10.51%)\n"
     ]
    }
   ],
   "source": [
    "encoder = LabelEncoder()\n",
    "encoder.fit(train_labels)\n",
    "encoded_Y = encoder.transform(train_labels)\n",
    "# convert integers to dummy variables (i.e. one hot encoded)\n",
    "dummy_y = np_utils.to_categorical(encoded_Y)\n",
    " \n",
    "# define baseline model\n",
    "def baseline_model():\n",
    "\t# create model\n",
    "\tmodel = Sequential()\n",
    "\tmodel.add(Dense(22, input_dim=11, activation='relu'))\n",
    "\tmodel.add(Dense(44, activation='relu'))\n",
    "\tmodel.add(Dense(88, activation='relu'))\n",
    "\tmodel.add(Dense(176, activation='relu'))\n",
    "\tmodel.add(Dense(3, activation='sigmoid'))\n",
    "\t# Compile model\n",
    "\tmodel.compile(loss='categorical_crossentropy', optimizer='adam', metrics=['accuracy'])\n",
    "\treturn model\n",
    " \n",
    "estimator = KerasClassifier(build_fn=baseline_model, epochs=200, batch_size=32, verbose=0)\n",
    "kfold = KFold(n_splits=10, shuffle=False)\n",
    "results = cross_val_score(estimator, Training_data, dummy_y, cv=kfold)\n",
    "print(\"Baseline: %.2f%% (%.2f%%)\" % (results.mean()*100, results.std()*100))"
   ]
  },
  {
   "cell_type": "code",
   "execution_count": 28,
   "metadata": {},
   "outputs": [
    {
     "data": {
      "text/plain": [
       "<keras.callbacks.History at 0x7f83507eff10>"
      ]
     },
     "execution_count": 28,
     "metadata": {},
     "output_type": "execute_result"
    }
   ],
   "source": [
    "estimator.fit(Training_data,dummy_y, epochs=100)"
   ]
  },
  {
   "cell_type": "code",
   "execution_count": 29,
   "metadata": {},
   "outputs": [],
   "source": [
    "a = zip(encoded_Y,train_labels)"
   ]
  },
  {
   "cell_type": "code",
   "execution_count": 149,
   "metadata": {},
   "outputs": [
    {
     "data": {
      "text/plain": [
       "array([2])"
      ]
     },
     "execution_count": 149,
     "metadata": {},
     "output_type": "execute_result"
    }
   ],
   "source": [
    "\n",
    "rest = np.reshape([testdata.iloc[40]],(1,11))\n",
    "estimator.predict(rest)"
   ]
  },
  {
   "cell_type": "code",
   "execution_count": 31,
   "metadata": {},
   "outputs": [
    {
     "data": {
      "text/plain": [
       "{(0, 'A'), (1, 'B'), (2, 'C')}"
      ]
     },
     "execution_count": 31,
     "metadata": {},
     "output_type": "execute_result"
    }
   ],
   "source": [
    "set(a)"
   ]
  },
  {
   "cell_type": "code",
   "execution_count": 150,
   "metadata": {},
   "outputs": [
    {
     "data": {
      "text/plain": [
       "'A'"
      ]
     },
     "execution_count": 150,
     "metadata": {},
     "output_type": "execute_result"
    }
   ],
   "source": [
    "test_lables[40]"
   ]
  },
  {
   "cell_type": "code",
   "execution_count": 33,
   "metadata": {},
   "outputs": [
    {
     "data": {
      "text/html": [
       "<div>\n",
       "<style scoped>\n",
       "    .dataframe tbody tr th:only-of-type {\n",
       "        vertical-align: middle;\n",
       "    }\n",
       "\n",
       "    .dataframe tbody tr th {\n",
       "        vertical-align: top;\n",
       "    }\n",
       "\n",
       "    .dataframe thead th {\n",
       "        text-align: right;\n",
       "    }\n",
       "</style>\n",
       "<table border=\"1\" class=\"dataframe\">\n",
       "  <thead>\n",
       "    <tr style=\"text-align: right;\">\n",
       "      <th></th>\n",
       "      <th>Q. 1 /1.00</th>\n",
       "      <th>Q. 2 /1.00</th>\n",
       "      <th>Q. 3 /1.00</th>\n",
       "      <th>Q. 4 /1.00</th>\n",
       "      <th>Q. 5 /1.00</th>\n",
       "      <th>Q. 6 /1.00</th>\n",
       "      <th>Q. 7 /1.00</th>\n",
       "      <th>Q. 8 /1.00</th>\n",
       "      <th>Q. 9 /1.00</th>\n",
       "      <th>Q. 10 /1.00</th>\n",
       "      <th>ConvertedTime</th>\n",
       "    </tr>\n",
       "  </thead>\n",
       "  <tbody>\n",
       "    <tr>\n",
       "      <th>13</th>\n",
       "      <td>1.0</td>\n",
       "      <td>0.0</td>\n",
       "      <td>1.0</td>\n",
       "      <td>1.0</td>\n",
       "      <td>1.0</td>\n",
       "      <td>1.0</td>\n",
       "      <td>1.0</td>\n",
       "      <td>1.0</td>\n",
       "      <td>1.0</td>\n",
       "      <td>0.0</td>\n",
       "      <td>356</td>\n",
       "    </tr>\n",
       "    <tr>\n",
       "      <th>42</th>\n",
       "      <td>0.0</td>\n",
       "      <td>0.0</td>\n",
       "      <td>0.0</td>\n",
       "      <td>0.0</td>\n",
       "      <td>0.0</td>\n",
       "      <td>0.0</td>\n",
       "      <td>1.0</td>\n",
       "      <td>1.0</td>\n",
       "      <td>1.0</td>\n",
       "      <td>0.0</td>\n",
       "      <td>177</td>\n",
       "    </tr>\n",
       "    <tr>\n",
       "      <th>27</th>\n",
       "      <td>1.0</td>\n",
       "      <td>0.0</td>\n",
       "      <td>1.0</td>\n",
       "      <td>1.0</td>\n",
       "      <td>1.0</td>\n",
       "      <td>1.0</td>\n",
       "      <td>1.0</td>\n",
       "      <td>1.0</td>\n",
       "      <td>1.0</td>\n",
       "      <td>0.0</td>\n",
       "      <td>211</td>\n",
       "    </tr>\n",
       "    <tr>\n",
       "      <th>38</th>\n",
       "      <td>0.0</td>\n",
       "      <td>0.0</td>\n",
       "      <td>0.0</td>\n",
       "      <td>0.0</td>\n",
       "      <td>0.0</td>\n",
       "      <td>1.0</td>\n",
       "      <td>1.0</td>\n",
       "      <td>0.0</td>\n",
       "      <td>0.0</td>\n",
       "      <td>1.0</td>\n",
       "      <td>290</td>\n",
       "    </tr>\n",
       "    <tr>\n",
       "      <th>9</th>\n",
       "      <td>1.0</td>\n",
       "      <td>1.0</td>\n",
       "      <td>1.0</td>\n",
       "      <td>1.0</td>\n",
       "      <td>1.0</td>\n",
       "      <td>0.0</td>\n",
       "      <td>0.0</td>\n",
       "      <td>1.0</td>\n",
       "      <td>0.0</td>\n",
       "      <td>1.0</td>\n",
       "      <td>452</td>\n",
       "    </tr>\n",
       "  </tbody>\n",
       "</table>\n",
       "</div>"
      ],
      "text/plain": [
       "    Q. 1 /1.00  Q. 2 /1.00  Q. 3 /1.00  Q. 4 /1.00  Q. 5 /1.00  Q. 6 /1.00  \\\n",
       "13         1.0         0.0         1.0         1.0         1.0         1.0   \n",
       "42         0.0         0.0         0.0         0.0         0.0         0.0   \n",
       "27         1.0         0.0         1.0         1.0         1.0         1.0   \n",
       "38         0.0         0.0         0.0         0.0         0.0         1.0   \n",
       "9          1.0         1.0         1.0         1.0         1.0         0.0   \n",
       "\n",
       "    Q. 7 /1.00  Q. 8 /1.00  Q. 9 /1.00  Q. 10 /1.00  ConvertedTime  \n",
       "13         1.0         1.0         1.0          0.0            356  \n",
       "42         1.0         1.0         1.0          0.0            177  \n",
       "27         1.0         1.0         1.0          0.0            211  \n",
       "38         1.0         0.0         0.0          1.0            290  \n",
       "9          0.0         1.0         0.0          1.0            452  "
      ]
     },
     "execution_count": 33,
     "metadata": {},
     "output_type": "execute_result"
    }
   ],
   "source": [
    "testdata.head()"
   ]
  },
  {
   "cell_type": "code",
   "execution_count": 34,
   "metadata": {},
   "outputs": [
    {
     "data": {
      "text/plain": [
       "(176, 11)"
      ]
     },
     "execution_count": 34,
     "metadata": {},
     "output_type": "execute_result"
    }
   ],
   "source": [
    "Training_data.shape"
   ]
  },
  {
   "cell_type": "code",
   "execution_count": 35,
   "metadata": {},
   "outputs": [
    {
     "data": {
      "text/plain": [
       "KNeighborsClassifier(n_neighbors=3)"
      ]
     },
     "execution_count": 35,
     "metadata": {},
     "output_type": "execute_result"
    }
   ],
   "source": [
    "from sklearn.neighbors import KNeighborsClassifier\n",
    "from sklearn.pipeline import Pipeline\n",
    "\n",
    "knn = KNeighborsClassifier(n_neighbors=3)\n",
    "# knn_model = Pipeline(steps = [('preprocessor',preprocessorForFeatures),('classifier',knn)])\n",
    "knn.fit(Training_data,train_labels)"
   ]
  },
  {
   "cell_type": "code",
   "execution_count": 36,
   "metadata": {},
   "outputs": [],
   "source": [
    "ypred = knn.predict(testdata)"
   ]
  },
  {
   "cell_type": "code",
   "execution_count": 37,
   "metadata": {},
   "outputs": [],
   "source": [
    "from sklearn.metrics import accuracy_score"
   ]
  },
  {
   "cell_type": "code",
   "execution_count": 38,
   "metadata": {},
   "outputs": [
    {
     "data": {
      "text/plain": [
       "0.7386363636363636"
      ]
     },
     "execution_count": 38,
     "metadata": {},
     "output_type": "execute_result"
    }
   ],
   "source": [
    "accuracy_score(test_lables, ypred)"
   ]
  },
  {
   "cell_type": "code",
   "execution_count": 39,
   "metadata": {},
   "outputs": [],
   "source": [
    "from sklearn.naive_bayes import MultinomialNB"
   ]
  },
  {
   "cell_type": "code",
   "execution_count": 40,
   "metadata": {},
   "outputs": [
    {
     "data": {
      "text/plain": [
       "MultinomialNB(alpha=0.2)"
      ]
     },
     "execution_count": 40,
     "metadata": {},
     "output_type": "execute_result"
    }
   ],
   "source": [
    "naive = MultinomialNB(alpha=0.2,class_prior=None,fit_prior=True)\n",
    "naive.fit(Training_data,train_labels)"
   ]
  },
  {
   "cell_type": "code",
   "execution_count": 41,
   "metadata": {},
   "outputs": [],
   "source": [
    "ypred = naive.predict(testdata)"
   ]
  },
  {
   "cell_type": "code",
   "execution_count": 42,
   "metadata": {},
   "outputs": [
    {
     "data": {
      "text/plain": [
       "0.6818181818181818"
      ]
     },
     "execution_count": 42,
     "metadata": {},
     "output_type": "execute_result"
    }
   ],
   "source": [
    "accuracy_score(test_lables, ypred)"
   ]
  },
  {
   "cell_type": "code",
   "execution_count": 43,
   "metadata": {},
   "outputs": [],
   "source": [
    "from sklearn import tree\n"
   ]
  },
  {
   "cell_type": "code",
   "execution_count": 93,
   "metadata": {},
   "outputs": [],
   "source": [
    "classificaton = tree.DecisionTreeClassifier()"
   ]
  },
  {
   "cell_type": "code",
   "execution_count": 45,
   "metadata": {},
   "outputs": [
    {
     "data": {
      "text/plain": [
       "DecisionTreeClassifier()"
      ]
     },
     "execution_count": 45,
     "metadata": {},
     "output_type": "execute_result"
    }
   ],
   "source": [
    "classificaton.fit(Training_data,train_labels)"
   ]
  },
  {
   "cell_type": "code",
   "execution_count": 46,
   "metadata": {},
   "outputs": [],
   "source": [
    "ypred = classificaton.predict(testdata)"
   ]
  },
  {
   "cell_type": "code",
   "execution_count": 47,
   "metadata": {},
   "outputs": [
    {
     "data": {
      "text/plain": [
       "0.7727272727272727"
      ]
     },
     "execution_count": 47,
     "metadata": {},
     "output_type": "execute_result"
    }
   ],
   "source": [
    "accuracy_score(ypred,test_lables)"
   ]
  },
  {
   "cell_type": "code",
   "execution_count": 69,
   "metadata": {},
   "outputs": [],
   "source": [
    "from sklearn.discriminant_analysis import LinearDiscriminantAnalysis as LDA"
   ]
  },
  {
   "cell_type": "code",
   "execution_count": 151,
   "metadata": {},
   "outputs": [],
   "source": [
    "classsif = LDA()"
   ]
  },
  {
   "cell_type": "code",
   "execution_count": 152,
   "metadata": {},
   "outputs": [
    {
     "data": {
      "text/plain": [
       "LinearDiscriminantAnalysis()"
      ]
     },
     "execution_count": 152,
     "metadata": {},
     "output_type": "execute_result"
    }
   ],
   "source": [
    "classsif.fit(Training_data,train_labels)"
   ]
  },
  {
   "cell_type": "code",
   "execution_count": 63,
   "metadata": {},
   "outputs": [],
   "source": [
    "y_pred = classsif.predict(testdata)"
   ]
  },
  {
   "cell_type": "code",
   "execution_count": 64,
   "metadata": {},
   "outputs": [
    {
     "data": {
      "text/plain": [
       "0.7954545454545454"
      ]
     },
     "execution_count": 64,
     "metadata": {},
     "output_type": "execute_result"
    }
   ],
   "source": [
    "accuracy_score(y_pred,test_lables)"
   ]
  },
  {
   "cell_type": "code",
   "execution_count": 66,
   "metadata": {},
   "outputs": [],
   "source": [
    "from sklearn.datasets import make_classification\n",
    "from sklearn.model_selection import cross_val_score\n",
    "from sklearn.model_selection import RepeatedStratifiedKFold"
   ]
  },
  {
   "cell_type": "code",
   "execution_count": 76,
   "metadata": {},
   "outputs": [],
   "source": []
  },
  {
   "cell_type": "code",
   "execution_count": 72,
   "metadata": {},
   "outputs": [],
   "source": [
    "from numpy import mean\n",
    "from numpy import std"
   ]
  },
  {
   "cell_type": "code",
   "execution_count": 127,
   "metadata": {},
   "outputs": [],
   "source": [
    "import random"
   ]
  },
  {
   "cell_type": "code",
   "execution_count": 141,
   "metadata": {},
   "outputs": [
    {
     "data": {
      "text/plain": [
       "1"
      ]
     },
     "execution_count": 141,
     "metadata": {},
     "output_type": "execute_result"
    }
   ],
   "source": [
    "num = random.randint(0,255)\n",
    "num"
   ]
  },
  {
   "cell_type": "code",
   "execution_count": 140,
   "metadata": {},
   "outputs": [
    {
     "name": "stdout",
     "output_type": "stream",
     "text": [
      "Mean Accuracy: 0.809 (0.128)\n"
     ]
    }
   ],
   "source": [
    "\n",
    "cv = RepeatedStratifiedKFold(n_splits=20, n_repeats=2, random_state=111)\n",
    "\n",
    "scores = cross_val_score(classsif, Training_data, train_labels, scoring='accuracy', cv=cv, n_jobs=-1)\n",
    "# summarize result\n",
    "print('Mean Accuracy: %.3f (%.3f)' % (mean(scores), std(scores)))"
   ]
  },
  {
   "cell_type": "code",
   "execution_count": 121,
   "metadata": {},
   "outputs": [
    {
     "name": "stdout",
     "output_type": "stream",
     "text": [
      "Mean Accuracy: 0.789 (0.128)\n"
     ]
    }
   ],
   "source": [
    "\n",
    "cv = RepeatedStratifiedKFold(n_splits=20, n_repeats=2, random_state=111)\n",
    "\n",
    "scores = cross_val_score(classificaton, Training_data, train_labels, scoring='accuracy', cv=cv, n_jobs=-1)\n",
    "# summarize result\n",
    "print('Mean Accuracy: %.3f (%.3f)' % (mean(scores), std(scores)))"
   ]
  },
  {
   "cell_type": "code",
   "execution_count": 144,
   "metadata": {},
   "outputs": [
    {
     "name": "stdout",
     "output_type": "stream",
     "text": [
      "##### random0  = 69\n",
      "Mean Accuracy: 0.807 (0.124)\n",
      "##### random1  = 168\n",
      "Mean Accuracy: 0.789 (0.140)\n",
      "##### random2  = 232\n",
      "Mean Accuracy: 0.791 (0.133)\n",
      "##### random3  = 190\n",
      "Mean Accuracy: 0.799 (0.112)\n",
      "##### random4  = 244\n",
      "Mean Accuracy: 0.793 (0.116)\n",
      "##### random5  = 145\n",
      "Mean Accuracy: 0.797 (0.124)\n",
      "##### random6  = 88\n",
      "Mean Accuracy: 0.793 (0.133)\n",
      "##### random7  = 230\n",
      "Mean Accuracy: 0.801 (0.118)\n",
      "##### random8  = 219\n",
      "Mean Accuracy: 0.793 (0.108)\n",
      "##### random9  = 121\n",
      "Mean Accuracy: 0.802 (0.114)\n",
      "##### random10  = 215\n",
      "Mean Accuracy: 0.801 (0.121)\n",
      "##### random11  = 222\n",
      "Mean Accuracy: 0.797 (0.121)\n",
      "##### random12  = 174\n",
      "Mean Accuracy: 0.792 (0.134)\n",
      "##### random13  = 173\n",
      "Mean Accuracy: 0.792 (0.127)\n",
      "##### random14  = 12\n",
      "Mean Accuracy: 0.796 (0.125)\n",
      "##### random15  = 235\n",
      "Mean Accuracy: 0.799 (0.131)\n",
      "##### random16  = 1\n",
      "Mean Accuracy: 0.792 (0.135)\n",
      "##### random17  = 117\n",
      "Mean Accuracy: 0.791 (0.119)\n",
      "##### random18  = 149\n",
      "Mean Accuracy: 0.801 (0.118)\n",
      "##### random19  = 21\n",
      "Mean Accuracy: 0.779 (0.136)\n",
      "##### random20  = 113\n",
      "Mean Accuracy: 0.798 (0.109)\n",
      "##### random21  = 173\n",
      "Mean Accuracy: 0.792 (0.127)\n",
      "##### random22  = 3\n",
      "Mean Accuracy: 0.793 (0.131)\n",
      "##### random23  = 41\n",
      "Mean Accuracy: 0.783 (0.126)\n",
      "##### random24  = 52\n",
      "Mean Accuracy: 0.798 (0.104)\n",
      "##### random25  = 138\n",
      "Mean Accuracy: 0.792 (0.135)\n",
      "##### random26  = 138\n",
      "Mean Accuracy: 0.792 (0.135)\n",
      "##### random27  = 74\n",
      "Mean Accuracy: 0.791 (0.131)\n",
      "##### random28  = 72\n",
      "Mean Accuracy: 0.795 (0.115)\n",
      "##### random29  = 137\n",
      "Mean Accuracy: 0.805 (0.114)\n",
      "##### random30  = 186\n",
      "Mean Accuracy: 0.799 (0.103)\n",
      "##### random31  = 125\n",
      "Mean Accuracy: 0.799 (0.124)\n",
      "##### random32  = 99\n",
      "Mean Accuracy: 0.793 (0.115)\n",
      "##### random33  = 111\n",
      "Mean Accuracy: 0.809 (0.128)\n",
      "##### random34  = 25\n",
      "Mean Accuracy: 0.795 (0.146)\n",
      "##### random35  = 196\n",
      "Mean Accuracy: 0.807 (0.114)\n",
      "##### random36  = 129\n",
      "Mean Accuracy: 0.788 (0.122)\n",
      "##### random37  = 55\n",
      "Mean Accuracy: 0.802 (0.126)\n",
      "##### random38  = 186\n",
      "Mean Accuracy: 0.799 (0.103)\n",
      "##### random39  = 182\n",
      "Mean Accuracy: 0.792 (0.135)\n",
      "##### random40  = 245\n",
      "Mean Accuracy: 0.784 (0.127)\n",
      "##### random41  = 8\n",
      "Mean Accuracy: 0.786 (0.113)\n",
      "##### random42  = 86\n",
      "Mean Accuracy: 0.794 (0.121)\n",
      "##### random43  = 106\n",
      "Mean Accuracy: 0.796 (0.106)\n",
      "##### random44  = 59\n",
      "Mean Accuracy: 0.801 (0.110)\n",
      "##### random45  = 180\n",
      "Mean Accuracy: 0.790 (0.125)\n",
      "##### random46  = 162\n",
      "Mean Accuracy: 0.806 (0.124)\n",
      "##### random47  = 230\n",
      "Mean Accuracy: 0.801 (0.118)\n",
      "##### random48  = 213\n",
      "Mean Accuracy: 0.794 (0.119)\n",
      "##### random49  = 34\n",
      "Mean Accuracy: 0.802 (0.133)\n",
      "##### random50  = 134\n",
      "Mean Accuracy: 0.796 (0.131)\n",
      "##### random51  = 79\n",
      "Mean Accuracy: 0.789 (0.125)\n",
      "##### random52  = 218\n",
      "Mean Accuracy: 0.796 (0.107)\n",
      "##### random53  = 175\n",
      "Mean Accuracy: 0.797 (0.113)\n",
      "##### random54  = 227\n",
      "Mean Accuracy: 0.781 (0.127)\n",
      "##### random55  = 186\n",
      "Mean Accuracy: 0.799 (0.103)\n",
      "##### random56  = 243\n",
      "Mean Accuracy: 0.800 (0.123)\n",
      "##### random57  = 75\n",
      "Mean Accuracy: 0.790 (0.140)\n",
      "##### random58  = 200\n",
      "Mean Accuracy: 0.794 (0.113)\n",
      "##### random59  = 96\n",
      "Mean Accuracy: 0.811 (0.108)\n",
      "##### random60  = 67\n",
      "Mean Accuracy: 0.795 (0.103)\n",
      "##### random61  = 39\n",
      "Mean Accuracy: 0.800 (0.115)\n",
      "##### random62  = 189\n",
      "Mean Accuracy: 0.790 (0.135)\n",
      "##### random63  = 142\n",
      "Mean Accuracy: 0.786 (0.115)\n",
      "##### random64  = 198\n",
      "Mean Accuracy: 0.816 (0.103)\n",
      "##### random65  = 154\n",
      "Mean Accuracy: 0.785 (0.140)\n",
      "##### random66  = 190\n",
      "Mean Accuracy: 0.799 (0.112)\n",
      "##### random67  = 139\n",
      "Mean Accuracy: 0.793 (0.121)\n",
      "##### random68  = 147\n",
      "Mean Accuracy: 0.791 (0.133)\n",
      "##### random69  = 195\n",
      "Mean Accuracy: 0.799 (0.109)\n",
      "##### random70  = 91\n",
      "Mean Accuracy: 0.798 (0.106)\n",
      "##### random71  = 239\n",
      "Mean Accuracy: 0.797 (0.111)\n",
      "##### random72  = 119\n",
      "Mean Accuracy: 0.793 (0.116)\n",
      "##### random73  = 120\n",
      "Mean Accuracy: 0.799 (0.118)\n",
      "##### random74  = 210\n",
      "Mean Accuracy: 0.793 (0.109)\n",
      "##### random75  = 72\n",
      "Mean Accuracy: 0.795 (0.115)\n",
      "##### random76  = 159\n",
      "Mean Accuracy: 0.793 (0.121)\n",
      "##### random77  = 32\n",
      "Mean Accuracy: 0.795 (0.100)\n",
      "##### random78  = 84\n",
      "Mean Accuracy: 0.790 (0.130)\n",
      "##### random79  = 49\n",
      "Mean Accuracy: 0.796 (0.116)\n"
     ]
    }
   ],
   "source": [
    "for i in range(80):\n",
    "    num = random.randint(0,255)\n",
    "    cv = RepeatedStratifiedKFold(n_splits=20, n_repeats=2, random_state=num)\n",
    "    scores = cross_val_score(classsif, Training_data, train_labels, scoring='accuracy', cv=cv, n_jobs=-1)\n",
    "# summarize result\n",
    "    print(f\"##### random{i}  = {num}\")\n",
    "    print('Mean Accuracy: %.3f (%.3f)' % (mean(scores), std(scores)))"
   ]
  },
  {
   "cell_type": "code",
   "execution_count": null,
   "metadata": {},
   "outputs": [],
   "source": []
  }
 ],
 "metadata": {
  "interpreter": {
   "hash": "c2be777158ee439ae43502cffa18df435efd1dcf871be939b08f12e0bd6581e4"
  },
  "kernelspec": {
   "display_name": "Python 3.8.5 64-bit ('base': conda)",
   "language": "python",
   "name": "python3"
  },
  "language_info": {
   "codemirror_mode": {
    "name": "ipython",
    "version": 3
   },
   "file_extension": ".py",
   "mimetype": "text/x-python",
   "name": "python",
   "nbconvert_exporter": "python",
   "pygments_lexer": "ipython3",
   "version": "3.8.5"
  },
  "orig_nbformat": 4
 },
 "nbformat": 4,
 "nbformat_minor": 2
}
